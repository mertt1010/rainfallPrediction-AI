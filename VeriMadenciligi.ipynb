{
  "nbformat": 4,
  "nbformat_minor": 0,
  "metadata": {
    "colab": {
      "provenance": []
    },
    "kernelspec": {
      "name": "python3",
      "display_name": "Python 3"
    },
    "language_info": {
      "name": "python"
    }
  },
  "cells": [
    {
      "cell_type": "code",
      "execution_count": 1,
      "metadata": {
        "id": "_vX_1tvQj5vV"
      },
      "outputs": [],
      "source": [
        "import pandas as pd\n",
        "import numpy as np\n",
        "import matplotlib.pyplot as plt\n",
        "import seaborn as sns\n",
        "\n",
        "from sklearn.model_selection import train_test_split\n",
        "from sklearn.preprocessing import LabelEncoder, StandardScaler\n",
        "from sklearn.metrics import classification_report, confusion_matrix\n",
        "\n",
        "from sklearn.linear_model import LogisticRegression\n",
        "from sklearn.ensemble import RandomForestClassifier\n",
        "from sklearn.neighbors import KNeighborsClassifier\n",
        "from sklearn.tree import DecisionTreeClassifier"
      ]
    },
    {
      "cell_type": "markdown",
      "source": [
        "Gerekli kütüphaneleri import ediyoruz."
      ],
      "metadata": {
        "id": "DFYN9tBNoVG9"
      }
    },
    {
      "cell_type": "code",
      "source": [
        "from google.colab import drive\n",
        "drive.mount('/content/drive')\n"
      ],
      "metadata": {
        "colab": {
          "base_uri": "https://localhost:8080/"
        },
        "id": "NSuYiVYGljlF",
        "outputId": "0e901d1b-e2ec-420c-885d-501fad208345"
      },
      "execution_count": 2,
      "outputs": [
        {
          "output_type": "stream",
          "name": "stdout",
          "text": [
            "Mounted at /content/drive\n"
          ]
        }
      ]
    },
    {
      "cell_type": "markdown",
      "source": [
        "Verisetini yüklemek için colab ve drive bağlantısını sağlıyoruz."
      ],
      "metadata": {
        "id": "DjHbe_zYoc2t"
      }
    },
    {
      "cell_type": "code",
      "source": [
        "import pandas as pd\n",
        "\n",
        "df = pd.read_csv(\"/content/drive/MyDrive/weatherAUS.csv\")\n",
        "\n",
        "# İlk 5 satıra bakalım\n",
        "df.head()\n"
      ],
      "metadata": {
        "colab": {
          "base_uri": "https://localhost:8080/",
          "height": 322
        },
        "id": "tFn81JKGmLLq",
        "outputId": "9e8afb76-a704-4700-dd89-626097028d25"
      },
      "execution_count": 3,
      "outputs": [
        {
          "output_type": "execute_result",
          "data": {
            "text/plain": [
              "         Date Location  MinTemp  MaxTemp  Rainfall  Evaporation  Sunshine  \\\n",
              "0  2008-12-01   Albury     13.4     22.9       0.6          NaN       NaN   \n",
              "1  2008-12-02   Albury      7.4     25.1       0.0          NaN       NaN   \n",
              "2  2008-12-03   Albury     12.9     25.7       0.0          NaN       NaN   \n",
              "3  2008-12-04   Albury      9.2     28.0       0.0          NaN       NaN   \n",
              "4  2008-12-05   Albury     17.5     32.3       1.0          NaN       NaN   \n",
              "\n",
              "  WindGustDir  WindGustSpeed WindDir9am  ... Humidity9am  Humidity3pm  \\\n",
              "0           W           44.0          W  ...        71.0         22.0   \n",
              "1         WNW           44.0        NNW  ...        44.0         25.0   \n",
              "2         WSW           46.0          W  ...        38.0         30.0   \n",
              "3          NE           24.0         SE  ...        45.0         16.0   \n",
              "4           W           41.0        ENE  ...        82.0         33.0   \n",
              "\n",
              "   Pressure9am  Pressure3pm  Cloud9am  Cloud3pm  Temp9am  Temp3pm  RainToday  \\\n",
              "0       1007.7       1007.1       8.0       NaN     16.9     21.8         No   \n",
              "1       1010.6       1007.8       NaN       NaN     17.2     24.3         No   \n",
              "2       1007.6       1008.7       NaN       2.0     21.0     23.2         No   \n",
              "3       1017.6       1012.8       NaN       NaN     18.1     26.5         No   \n",
              "4       1010.8       1006.0       7.0       8.0     17.8     29.7         No   \n",
              "\n",
              "   RainTomorrow  \n",
              "0            No  \n",
              "1            No  \n",
              "2            No  \n",
              "3            No  \n",
              "4            No  \n",
              "\n",
              "[5 rows x 23 columns]"
            ],
            "text/html": [
              "\n",
              "  <div id=\"df-451c845b-495d-495f-bc52-7451f7583b24\" class=\"colab-df-container\">\n",
              "    <div>\n",
              "<style scoped>\n",
              "    .dataframe tbody tr th:only-of-type {\n",
              "        vertical-align: middle;\n",
              "    }\n",
              "\n",
              "    .dataframe tbody tr th {\n",
              "        vertical-align: top;\n",
              "    }\n",
              "\n",
              "    .dataframe thead th {\n",
              "        text-align: right;\n",
              "    }\n",
              "</style>\n",
              "<table border=\"1\" class=\"dataframe\">\n",
              "  <thead>\n",
              "    <tr style=\"text-align: right;\">\n",
              "      <th></th>\n",
              "      <th>Date</th>\n",
              "      <th>Location</th>\n",
              "      <th>MinTemp</th>\n",
              "      <th>MaxTemp</th>\n",
              "      <th>Rainfall</th>\n",
              "      <th>Evaporation</th>\n",
              "      <th>Sunshine</th>\n",
              "      <th>WindGustDir</th>\n",
              "      <th>WindGustSpeed</th>\n",
              "      <th>WindDir9am</th>\n",
              "      <th>...</th>\n",
              "      <th>Humidity9am</th>\n",
              "      <th>Humidity3pm</th>\n",
              "      <th>Pressure9am</th>\n",
              "      <th>Pressure3pm</th>\n",
              "      <th>Cloud9am</th>\n",
              "      <th>Cloud3pm</th>\n",
              "      <th>Temp9am</th>\n",
              "      <th>Temp3pm</th>\n",
              "      <th>RainToday</th>\n",
              "      <th>RainTomorrow</th>\n",
              "    </tr>\n",
              "  </thead>\n",
              "  <tbody>\n",
              "    <tr>\n",
              "      <th>0</th>\n",
              "      <td>2008-12-01</td>\n",
              "      <td>Albury</td>\n",
              "      <td>13.4</td>\n",
              "      <td>22.9</td>\n",
              "      <td>0.6</td>\n",
              "      <td>NaN</td>\n",
              "      <td>NaN</td>\n",
              "      <td>W</td>\n",
              "      <td>44.0</td>\n",
              "      <td>W</td>\n",
              "      <td>...</td>\n",
              "      <td>71.0</td>\n",
              "      <td>22.0</td>\n",
              "      <td>1007.7</td>\n",
              "      <td>1007.1</td>\n",
              "      <td>8.0</td>\n",
              "      <td>NaN</td>\n",
              "      <td>16.9</td>\n",
              "      <td>21.8</td>\n",
              "      <td>No</td>\n",
              "      <td>No</td>\n",
              "    </tr>\n",
              "    <tr>\n",
              "      <th>1</th>\n",
              "      <td>2008-12-02</td>\n",
              "      <td>Albury</td>\n",
              "      <td>7.4</td>\n",
              "      <td>25.1</td>\n",
              "      <td>0.0</td>\n",
              "      <td>NaN</td>\n",
              "      <td>NaN</td>\n",
              "      <td>WNW</td>\n",
              "      <td>44.0</td>\n",
              "      <td>NNW</td>\n",
              "      <td>...</td>\n",
              "      <td>44.0</td>\n",
              "      <td>25.0</td>\n",
              "      <td>1010.6</td>\n",
              "      <td>1007.8</td>\n",
              "      <td>NaN</td>\n",
              "      <td>NaN</td>\n",
              "      <td>17.2</td>\n",
              "      <td>24.3</td>\n",
              "      <td>No</td>\n",
              "      <td>No</td>\n",
              "    </tr>\n",
              "    <tr>\n",
              "      <th>2</th>\n",
              "      <td>2008-12-03</td>\n",
              "      <td>Albury</td>\n",
              "      <td>12.9</td>\n",
              "      <td>25.7</td>\n",
              "      <td>0.0</td>\n",
              "      <td>NaN</td>\n",
              "      <td>NaN</td>\n",
              "      <td>WSW</td>\n",
              "      <td>46.0</td>\n",
              "      <td>W</td>\n",
              "      <td>...</td>\n",
              "      <td>38.0</td>\n",
              "      <td>30.0</td>\n",
              "      <td>1007.6</td>\n",
              "      <td>1008.7</td>\n",
              "      <td>NaN</td>\n",
              "      <td>2.0</td>\n",
              "      <td>21.0</td>\n",
              "      <td>23.2</td>\n",
              "      <td>No</td>\n",
              "      <td>No</td>\n",
              "    </tr>\n",
              "    <tr>\n",
              "      <th>3</th>\n",
              "      <td>2008-12-04</td>\n",
              "      <td>Albury</td>\n",
              "      <td>9.2</td>\n",
              "      <td>28.0</td>\n",
              "      <td>0.0</td>\n",
              "      <td>NaN</td>\n",
              "      <td>NaN</td>\n",
              "      <td>NE</td>\n",
              "      <td>24.0</td>\n",
              "      <td>SE</td>\n",
              "      <td>...</td>\n",
              "      <td>45.0</td>\n",
              "      <td>16.0</td>\n",
              "      <td>1017.6</td>\n",
              "      <td>1012.8</td>\n",
              "      <td>NaN</td>\n",
              "      <td>NaN</td>\n",
              "      <td>18.1</td>\n",
              "      <td>26.5</td>\n",
              "      <td>No</td>\n",
              "      <td>No</td>\n",
              "    </tr>\n",
              "    <tr>\n",
              "      <th>4</th>\n",
              "      <td>2008-12-05</td>\n",
              "      <td>Albury</td>\n",
              "      <td>17.5</td>\n",
              "      <td>32.3</td>\n",
              "      <td>1.0</td>\n",
              "      <td>NaN</td>\n",
              "      <td>NaN</td>\n",
              "      <td>W</td>\n",
              "      <td>41.0</td>\n",
              "      <td>ENE</td>\n",
              "      <td>...</td>\n",
              "      <td>82.0</td>\n",
              "      <td>33.0</td>\n",
              "      <td>1010.8</td>\n",
              "      <td>1006.0</td>\n",
              "      <td>7.0</td>\n",
              "      <td>8.0</td>\n",
              "      <td>17.8</td>\n",
              "      <td>29.7</td>\n",
              "      <td>No</td>\n",
              "      <td>No</td>\n",
              "    </tr>\n",
              "  </tbody>\n",
              "</table>\n",
              "<p>5 rows × 23 columns</p>\n",
              "</div>\n",
              "    <div class=\"colab-df-buttons\">\n",
              "\n",
              "  <div class=\"colab-df-container\">\n",
              "    <button class=\"colab-df-convert\" onclick=\"convertToInteractive('df-451c845b-495d-495f-bc52-7451f7583b24')\"\n",
              "            title=\"Convert this dataframe to an interactive table.\"\n",
              "            style=\"display:none;\">\n",
              "\n",
              "  <svg xmlns=\"http://www.w3.org/2000/svg\" height=\"24px\" viewBox=\"0 -960 960 960\">\n",
              "    <path d=\"M120-120v-720h720v720H120Zm60-500h600v-160H180v160Zm220 220h160v-160H400v160Zm0 220h160v-160H400v160ZM180-400h160v-160H180v160Zm440 0h160v-160H620v160ZM180-180h160v-160H180v160Zm440 0h160v-160H620v160Z\"/>\n",
              "  </svg>\n",
              "    </button>\n",
              "\n",
              "  <style>\n",
              "    .colab-df-container {\n",
              "      display:flex;\n",
              "      gap: 12px;\n",
              "    }\n",
              "\n",
              "    .colab-df-convert {\n",
              "      background-color: #E8F0FE;\n",
              "      border: none;\n",
              "      border-radius: 50%;\n",
              "      cursor: pointer;\n",
              "      display: none;\n",
              "      fill: #1967D2;\n",
              "      height: 32px;\n",
              "      padding: 0 0 0 0;\n",
              "      width: 32px;\n",
              "    }\n",
              "\n",
              "    .colab-df-convert:hover {\n",
              "      background-color: #E2EBFA;\n",
              "      box-shadow: 0px 1px 2px rgba(60, 64, 67, 0.3), 0px 1px 3px 1px rgba(60, 64, 67, 0.15);\n",
              "      fill: #174EA6;\n",
              "    }\n",
              "\n",
              "    .colab-df-buttons div {\n",
              "      margin-bottom: 4px;\n",
              "    }\n",
              "\n",
              "    [theme=dark] .colab-df-convert {\n",
              "      background-color: #3B4455;\n",
              "      fill: #D2E3FC;\n",
              "    }\n",
              "\n",
              "    [theme=dark] .colab-df-convert:hover {\n",
              "      background-color: #434B5C;\n",
              "      box-shadow: 0px 1px 3px 1px rgba(0, 0, 0, 0.15);\n",
              "      filter: drop-shadow(0px 1px 2px rgba(0, 0, 0, 0.3));\n",
              "      fill: #FFFFFF;\n",
              "    }\n",
              "  </style>\n",
              "\n",
              "    <script>\n",
              "      const buttonEl =\n",
              "        document.querySelector('#df-451c845b-495d-495f-bc52-7451f7583b24 button.colab-df-convert');\n",
              "      buttonEl.style.display =\n",
              "        google.colab.kernel.accessAllowed ? 'block' : 'none';\n",
              "\n",
              "      async function convertToInteractive(key) {\n",
              "        const element = document.querySelector('#df-451c845b-495d-495f-bc52-7451f7583b24');\n",
              "        const dataTable =\n",
              "          await google.colab.kernel.invokeFunction('convertToInteractive',\n",
              "                                                    [key], {});\n",
              "        if (!dataTable) return;\n",
              "\n",
              "        const docLinkHtml = 'Like what you see? Visit the ' +\n",
              "          '<a target=\"_blank\" href=https://colab.research.google.com/notebooks/data_table.ipynb>data table notebook</a>'\n",
              "          + ' to learn more about interactive tables.';\n",
              "        element.innerHTML = '';\n",
              "        dataTable['output_type'] = 'display_data';\n",
              "        await google.colab.output.renderOutput(dataTable, element);\n",
              "        const docLink = document.createElement('div');\n",
              "        docLink.innerHTML = docLinkHtml;\n",
              "        element.appendChild(docLink);\n",
              "      }\n",
              "    </script>\n",
              "  </div>\n",
              "\n",
              "\n",
              "    <div id=\"df-3c0b3f63-4586-41e9-b8b7-85a49a657b0e\">\n",
              "      <button class=\"colab-df-quickchart\" onclick=\"quickchart('df-3c0b3f63-4586-41e9-b8b7-85a49a657b0e')\"\n",
              "                title=\"Suggest charts\"\n",
              "                style=\"display:none;\">\n",
              "\n",
              "<svg xmlns=\"http://www.w3.org/2000/svg\" height=\"24px\"viewBox=\"0 0 24 24\"\n",
              "     width=\"24px\">\n",
              "    <g>\n",
              "        <path d=\"M19 3H5c-1.1 0-2 .9-2 2v14c0 1.1.9 2 2 2h14c1.1 0 2-.9 2-2V5c0-1.1-.9-2-2-2zM9 17H7v-7h2v7zm4 0h-2V7h2v10zm4 0h-2v-4h2v4z\"/>\n",
              "    </g>\n",
              "</svg>\n",
              "      </button>\n",
              "\n",
              "<style>\n",
              "  .colab-df-quickchart {\n",
              "      --bg-color: #E8F0FE;\n",
              "      --fill-color: #1967D2;\n",
              "      --hover-bg-color: #E2EBFA;\n",
              "      --hover-fill-color: #174EA6;\n",
              "      --disabled-fill-color: #AAA;\n",
              "      --disabled-bg-color: #DDD;\n",
              "  }\n",
              "\n",
              "  [theme=dark] .colab-df-quickchart {\n",
              "      --bg-color: #3B4455;\n",
              "      --fill-color: #D2E3FC;\n",
              "      --hover-bg-color: #434B5C;\n",
              "      --hover-fill-color: #FFFFFF;\n",
              "      --disabled-bg-color: #3B4455;\n",
              "      --disabled-fill-color: #666;\n",
              "  }\n",
              "\n",
              "  .colab-df-quickchart {\n",
              "    background-color: var(--bg-color);\n",
              "    border: none;\n",
              "    border-radius: 50%;\n",
              "    cursor: pointer;\n",
              "    display: none;\n",
              "    fill: var(--fill-color);\n",
              "    height: 32px;\n",
              "    padding: 0;\n",
              "    width: 32px;\n",
              "  }\n",
              "\n",
              "  .colab-df-quickchart:hover {\n",
              "    background-color: var(--hover-bg-color);\n",
              "    box-shadow: 0 1px 2px rgba(60, 64, 67, 0.3), 0 1px 3px 1px rgba(60, 64, 67, 0.15);\n",
              "    fill: var(--button-hover-fill-color);\n",
              "  }\n",
              "\n",
              "  .colab-df-quickchart-complete:disabled,\n",
              "  .colab-df-quickchart-complete:disabled:hover {\n",
              "    background-color: var(--disabled-bg-color);\n",
              "    fill: var(--disabled-fill-color);\n",
              "    box-shadow: none;\n",
              "  }\n",
              "\n",
              "  .colab-df-spinner {\n",
              "    border: 2px solid var(--fill-color);\n",
              "    border-color: transparent;\n",
              "    border-bottom-color: var(--fill-color);\n",
              "    animation:\n",
              "      spin 1s steps(1) infinite;\n",
              "  }\n",
              "\n",
              "  @keyframes spin {\n",
              "    0% {\n",
              "      border-color: transparent;\n",
              "      border-bottom-color: var(--fill-color);\n",
              "      border-left-color: var(--fill-color);\n",
              "    }\n",
              "    20% {\n",
              "      border-color: transparent;\n",
              "      border-left-color: var(--fill-color);\n",
              "      border-top-color: var(--fill-color);\n",
              "    }\n",
              "    30% {\n",
              "      border-color: transparent;\n",
              "      border-left-color: var(--fill-color);\n",
              "      border-top-color: var(--fill-color);\n",
              "      border-right-color: var(--fill-color);\n",
              "    }\n",
              "    40% {\n",
              "      border-color: transparent;\n",
              "      border-right-color: var(--fill-color);\n",
              "      border-top-color: var(--fill-color);\n",
              "    }\n",
              "    60% {\n",
              "      border-color: transparent;\n",
              "      border-right-color: var(--fill-color);\n",
              "    }\n",
              "    80% {\n",
              "      border-color: transparent;\n",
              "      border-right-color: var(--fill-color);\n",
              "      border-bottom-color: var(--fill-color);\n",
              "    }\n",
              "    90% {\n",
              "      border-color: transparent;\n",
              "      border-bottom-color: var(--fill-color);\n",
              "    }\n",
              "  }\n",
              "</style>\n",
              "\n",
              "      <script>\n",
              "        async function quickchart(key) {\n",
              "          const quickchartButtonEl =\n",
              "            document.querySelector('#' + key + ' button');\n",
              "          quickchartButtonEl.disabled = true;  // To prevent multiple clicks.\n",
              "          quickchartButtonEl.classList.add('colab-df-spinner');\n",
              "          try {\n",
              "            const charts = await google.colab.kernel.invokeFunction(\n",
              "                'suggestCharts', [key], {});\n",
              "          } catch (error) {\n",
              "            console.error('Error during call to suggestCharts:', error);\n",
              "          }\n",
              "          quickchartButtonEl.classList.remove('colab-df-spinner');\n",
              "          quickchartButtonEl.classList.add('colab-df-quickchart-complete');\n",
              "        }\n",
              "        (() => {\n",
              "          let quickchartButtonEl =\n",
              "            document.querySelector('#df-3c0b3f63-4586-41e9-b8b7-85a49a657b0e button');\n",
              "          quickchartButtonEl.style.display =\n",
              "            google.colab.kernel.accessAllowed ? 'block' : 'none';\n",
              "        })();\n",
              "      </script>\n",
              "    </div>\n",
              "\n",
              "    </div>\n",
              "  </div>\n"
            ],
            "application/vnd.google.colaboratory.intrinsic+json": {
              "type": "dataframe",
              "variable_name": "df"
            }
          },
          "metadata": {},
          "execution_count": 3
        }
      ]
    },
    {
      "cell_type": "markdown",
      "source": [
        "Verisetini import edip test amaçlı ilk 5 satırı çagırıyoruz."
      ],
      "metadata": {
        "id": "p23sxn74ooJz"
      }
    },
    {
      "cell_type": "code",
      "source": [
        "# Tüm sütunlardaki eksik (NaN) değer sayısını görelim\n",
        "#df.isnull().sum().sort_values(ascending=False).head(20)\n"
      ],
      "metadata": {
        "id": "9fq1yDvOnfZO"
      },
      "execution_count": 4,
      "outputs": []
    },
    {
      "cell_type": "markdown",
      "source": [
        "Tüm sütunlardaki eksik verileri tespit ediyoruz. Bu kısımda çok fazla eksik veri bulunan sütünları modelin doğru şekilde eğitilmesi için ya belirli metriklere  göre dolduracağız ya da tamamen sileceğiz."
      ],
      "metadata": {
        "id": "xHHFkhQyov47"
      }
    },
    {
      "cell_type": "code",
      "source": [
        "df.drop(['Sunshine', 'Evaporation', 'Cloud3pm', 'Cloud9am'], axis=1, inplace=True)"
      ],
      "metadata": {
        "id": "-o4S-zkTpZjc"
      },
      "execution_count": 5,
      "outputs": []
    },
    {
      "cell_type": "markdown",
      "source": [
        "Sunshine, Evaporation, Cloud3pm, Cloud9am gibi sütunlarda çok fazla (%35+) eksik veri var. Bu kadar büyük boşlukları doldurmak modelin sağlıklı öğrenmesini zorlaştırır. Bu sebeple bu sütunları burada siliyoruz."
      ],
      "metadata": {
        "id": "7Avcr3rWqCpS"
      }
    },
    {
      "cell_type": "code",
      "source": [
        "sayisal_sutunlar = ['Pressure9am', 'Pressure3pm', 'WindGustSpeed', 'Humidity3pm',\n",
        "                    'Temp3pm', 'Rainfall', 'Humidity9am', 'WindSpeed3pm',\n",
        "                    'WindSpeed9am', 'Temp9am', 'MinTemp']\n",
        "\n",
        "for sutun in sayisal_sutunlar:\n",
        "    df[sutun] = df[sutun].fillna(df[sutun].median())"
      ],
      "metadata": {
        "id": "SKTKv5UCqWH0"
      },
      "execution_count": 6,
      "outputs": []
    },
    {
      "cell_type": "markdown",
      "source": [
        "Kalan Eksik Değerleri Dolduruyoruz (İstatistiksel Yaklaşımla)\n",
        "Sayısal Sütunlar → Medyanla dolduracağız\n",
        "Bu yöntem uç değerlerden (aykırı verilerden) daha az etkilenir"
      ],
      "metadata": {
        "id": "1eZaF26oqXpR"
      }
    },
    {
      "cell_type": "code",
      "source": [
        "kategorik_sutunlar = ['WindDir9am', 'WindGustDir', 'WindDir3pm', 'RainToday', 'RainTomorrow']\n",
        "\n",
        "for sutun in kategorik_sutunlar:\n",
        "    df[sutun] = df[sutun].fillna(df[sutun].mode()[0])"
      ],
      "metadata": {
        "id": "GZD7fIuMq6tf"
      },
      "execution_count": 7,
      "outputs": []
    },
    {
      "cell_type": "markdown",
      "source": [
        "Kategorik Sütunlar → Mod (en sık görülen değer) ile dolduruyoruz.\n",
        "\n"
      ],
      "metadata": {
        "id": "gCpqqw6Qq_Xr"
      }
    },
    {
      "cell_type": "code",
      "source": [
        "print(\"Toplam eksik veri sayısı:\", df.isnull().sum().sum())\n"
      ],
      "metadata": {
        "colab": {
          "base_uri": "https://localhost:8080/"
        },
        "id": "8Wm7tK59sTZj",
        "outputId": "1cd3203c-7cc5-4fbd-f303-350e4b603836"
      },
      "execution_count": 8,
      "outputs": [
        {
          "output_type": "stream",
          "name": "stdout",
          "text": [
            "Toplam eksik veri sayısı: 1261\n"
          ]
        }
      ]
    },
    {
      "cell_type": "markdown",
      "source": [
        "Eksik veri kaldı mı? Gerekli kontrolleri gerçekleştiriyoruz."
      ],
      "metadata": {
        "id": "3_IhnPrasUe1"
      }
    },
    {
      "cell_type": "code",
      "source": [
        "#df.isnull().sum().sort_values(ascending=False).head(15)"
      ],
      "metadata": {
        "id": "_xI_rzr5syb5"
      },
      "execution_count": 9,
      "outputs": []
    },
    {
      "cell_type": "markdown",
      "source": [
        "Bu komut, hangi sütunlarda hâlâ eksik veri olduğunu gösterecek."
      ],
      "metadata": {
        "id": "KqVfbjw6sz1u"
      }
    },
    {
      "cell_type": "code",
      "source": [
        "df['MaxTemp'] = df['MaxTemp'].fillna(df['MaxTemp'].median())"
      ],
      "metadata": {
        "id": "yXRZY1T_tXGQ"
      },
      "execution_count": 10,
      "outputs": []
    },
    {
      "cell_type": "markdown",
      "source": [
        "maxTemp sütununda 1261 eksik veri çıktığı için eksik verileri medyanlarla dolduruyoruz. Bu kısmı yorum satırına alacağız daha sonrasında."
      ],
      "metadata": {
        "id": "iM4Z_0NStYEf"
      }
    },
    {
      "cell_type": "code",
      "source": [
        "binary_cols = ['RainToday', 'RainTomorrow']\n",
        "\n",
        "for col in binary_cols:\n",
        "    df[col] = df[col].map({'No': 0, 'Yes': 1})"
      ],
      "metadata": {
        "id": "iaj7nD56uRDL"
      },
      "execution_count": 11,
      "outputs": []
    },
    {
      "cell_type": "markdown",
      "source": [
        "Makine öğrenmesi algoritmaları sadece sayısal verilerle çalışır.\n",
        "Bu yüzden \"RainToday\", \"RainTomorrow\" gibi kategorik (metin) verileri, sayıya çeviriyoruz."
      ],
      "metadata": {
        "id": "VeYwHICIuRt7"
      }
    },
    {
      "cell_type": "code",
      "source": [
        "from sklearn.preprocessing import LabelEncoder\n",
        "\n",
        "multi_cat_cols = ['WindGustDir', 'WindDir9am', 'WindDir3pm']\n",
        "\n",
        "le = LabelEncoder()\n",
        "for col in multi_cat_cols:\n",
        "    df[col] = le.fit_transform(df[col])\n"
      ],
      "metadata": {
        "id": "MKoRvolUur-v"
      },
      "execution_count": 12,
      "outputs": []
    },
    {
      "cell_type": "markdown",
      "source": [
        "Çoklu Kategorik Veriler → Label Encoding\n",
        "Bu, her yönü farklı bir sayı ile temsil eder  \"N\" → 0, \"E\" → 1,"
      ],
      "metadata": {
        "id": "LF2a3W1yusTZ"
      }
    },
    {
      "cell_type": "code",
      "source": [
        "# Date sütununu datetime formatına çevir\n",
        "df['Date'] = pd.to_datetime(df['Date'])\n",
        "\n",
        "# Yıl, Ay, Gün, Haftanın Günü, Mevsim sütunları oluştur\n",
        "df['Year'] = df['Date'].dt.year\n",
        "df['Month'] = df['Date'].dt.month\n",
        "df['Day'] = df['Date'].dt.day\n",
        "df['DayOfWeek'] = df['Date'].dt.dayofweek  # Pazartesi = 0\n",
        "\n",
        "# Mevsim sütunu ekle (isteğe bağlı)\n",
        "def get_season(month):\n",
        "    if month in [12, 1, 2]:\n",
        "        return 0  # Kış\n",
        "    elif month in [3, 4, 5]:\n",
        "        return 1  # İlkbahar\n",
        "    elif month in [6, 7, 8]:\n",
        "        return 2  # Yaz\n",
        "    else:\n",
        "        return 3  # Sonbahar\n",
        "\n",
        "df['Season'] = df['Month'].apply(get_season)\n",
        "\n",
        "# Artık Date sütununu silebiliriz\n",
        "df.drop('Date', axis=1, inplace=True)"
      ],
      "metadata": {
        "id": "YJk5F-4ru3yE"
      },
      "execution_count": 13,
      "outputs": []
    },
    {
      "cell_type": "markdown",
      "source": [
        "Date'i Olduğu Gibi Kullanamayız\n",
        "Çünkü \"2008-12-01\", \"2009-01-15\" gibi tarih string'leri model için anlamsızdır.\n",
        "\n",
        "Makine öğrenmesi modelleri sayısal ve anlamlı verilerle çalışır\n",
        "Tarih verisini olduğu gibi kullanmak yerine:\n",
        "✅ Yıl, Ay, Gün, Mevsim, Haftanın Günü gibi anlamlı bileşenlere ayırarak kullanırız."
      ],
      "metadata": {
        "id": "mw-4pqe6fdui"
      }
    },
    {
      "cell_type": "code",
      "source": [
        "from sklearn.preprocessing import LabelEncoder\n",
        "\n",
        "le = LabelEncoder()\n",
        "df['Location'] = le.fit_transform(df['Location'])"
      ],
      "metadata": {
        "id": "BL36u7RdgPFk"
      },
      "execution_count": 14,
      "outputs": []
    },
    {
      "cell_type": "markdown",
      "source": [
        "Location Neden Sayısala Çevrilmeli?\n",
        "1️⃣ Kategorik Verilerle Çalışan Algoritmalar\n",
        "Location sütunu şehir isimleri gibi kategorik (object/string) veriler içeriyor:\n",
        "Örnek: \"Albury\", \"Sydney\", \"Melbourne\" gibi.\n",
        "\n",
        "Makine öğrenmesi algoritmaları (Random Forest, Logistic Regression, vb.) string (object) verileri anlamaz.\n",
        "\n",
        "Bu yüzden Location gibi kategorik sütunları sayısal bir formata çevirmek zorundayız."
      ],
      "metadata": {
        "id": "BRgdwqCJgQHr"
      }
    },
    {
      "cell_type": "code",
      "source": [
        "df.info()"
      ],
      "metadata": {
        "colab": {
          "base_uri": "https://localhost:8080/"
        },
        "id": "Ok2q3zwmfmd8",
        "outputId": "b09bdd25-15ac-4881-c191-9a207fb4ca67"
      },
      "execution_count": 15,
      "outputs": [
        {
          "output_type": "stream",
          "name": "stdout",
          "text": [
            "<class 'pandas.core.frame.DataFrame'>\n",
            "RangeIndex: 145460 entries, 0 to 145459\n",
            "Data columns (total 23 columns):\n",
            " #   Column         Non-Null Count   Dtype  \n",
            "---  ------         --------------   -----  \n",
            " 0   Location       145460 non-null  int64  \n",
            " 1   MinTemp        145460 non-null  float64\n",
            " 2   MaxTemp        145460 non-null  float64\n",
            " 3   Rainfall       145460 non-null  float64\n",
            " 4   WindGustDir    145460 non-null  int64  \n",
            " 5   WindGustSpeed  145460 non-null  float64\n",
            " 6   WindDir9am     145460 non-null  int64  \n",
            " 7   WindDir3pm     145460 non-null  int64  \n",
            " 8   WindSpeed9am   145460 non-null  float64\n",
            " 9   WindSpeed3pm   145460 non-null  float64\n",
            " 10  Humidity9am    145460 non-null  float64\n",
            " 11  Humidity3pm    145460 non-null  float64\n",
            " 12  Pressure9am    145460 non-null  float64\n",
            " 13  Pressure3pm    145460 non-null  float64\n",
            " 14  Temp9am        145460 non-null  float64\n",
            " 15  Temp3pm        145460 non-null  float64\n",
            " 16  RainToday      145460 non-null  int64  \n",
            " 17  RainTomorrow   145460 non-null  int64  \n",
            " 18  Year           145460 non-null  int32  \n",
            " 19  Month          145460 non-null  int32  \n",
            " 20  Day            145460 non-null  int32  \n",
            " 21  DayOfWeek      145460 non-null  int32  \n",
            " 22  Season         145460 non-null  int64  \n",
            "dtypes: float64(12), int32(4), int64(7)\n",
            "memory usage: 23.3 MB\n"
          ]
        }
      ]
    },
    {
      "cell_type": "markdown",
      "source": [
        "Tüm veriler sayısal değerlere döndürülmüş mü diye kontrol ediyoruz."
      ],
      "metadata": {
        "id": "HrKdOl0xu5P9"
      }
    },
    {
      "cell_type": "code",
      "source": [
        "print(\"Toplam eksik veri sayısı:\", df.isnull().sum().sum())\n"
      ],
      "metadata": {
        "colab": {
          "base_uri": "https://localhost:8080/"
        },
        "id": "0JgyoI76hBeE",
        "outputId": "55a69f33-687e-4f16-ce90-3cee59e53a43"
      },
      "execution_count": 16,
      "outputs": [
        {
          "output_type": "stream",
          "name": "stdout",
          "text": [
            "Toplam eksik veri sayısı: 0\n"
          ]
        }
      ]
    },
    {
      "cell_type": "code",
      "source": [
        "df.isnull().sum().sort_values(ascending=False)\n"
      ],
      "metadata": {
        "colab": {
          "base_uri": "https://localhost:8080/",
          "height": 805
        },
        "id": "c0P7NqvahCCq",
        "outputId": "cfa59296-1619-4b42-d449-9ecbccaa9ad8"
      },
      "execution_count": 17,
      "outputs": [
        {
          "output_type": "execute_result",
          "data": {
            "text/plain": [
              "Location         0\n",
              "MinTemp          0\n",
              "MaxTemp          0\n",
              "Rainfall         0\n",
              "WindGustDir      0\n",
              "WindGustSpeed    0\n",
              "WindDir9am       0\n",
              "WindDir3pm       0\n",
              "WindSpeed9am     0\n",
              "WindSpeed3pm     0\n",
              "Humidity9am      0\n",
              "Humidity3pm      0\n",
              "Pressure9am      0\n",
              "Pressure3pm      0\n",
              "Temp9am          0\n",
              "Temp3pm          0\n",
              "RainToday        0\n",
              "RainTomorrow     0\n",
              "Year             0\n",
              "Month            0\n",
              "Day              0\n",
              "DayOfWeek        0\n",
              "Season           0\n",
              "dtype: int64"
            ],
            "text/html": [
              "<div>\n",
              "<style scoped>\n",
              "    .dataframe tbody tr th:only-of-type {\n",
              "        vertical-align: middle;\n",
              "    }\n",
              "\n",
              "    .dataframe tbody tr th {\n",
              "        vertical-align: top;\n",
              "    }\n",
              "\n",
              "    .dataframe thead th {\n",
              "        text-align: right;\n",
              "    }\n",
              "</style>\n",
              "<table border=\"1\" class=\"dataframe\">\n",
              "  <thead>\n",
              "    <tr style=\"text-align: right;\">\n",
              "      <th></th>\n",
              "      <th>0</th>\n",
              "    </tr>\n",
              "  </thead>\n",
              "  <tbody>\n",
              "    <tr>\n",
              "      <th>Location</th>\n",
              "      <td>0</td>\n",
              "    </tr>\n",
              "    <tr>\n",
              "      <th>MinTemp</th>\n",
              "      <td>0</td>\n",
              "    </tr>\n",
              "    <tr>\n",
              "      <th>MaxTemp</th>\n",
              "      <td>0</td>\n",
              "    </tr>\n",
              "    <tr>\n",
              "      <th>Rainfall</th>\n",
              "      <td>0</td>\n",
              "    </tr>\n",
              "    <tr>\n",
              "      <th>WindGustDir</th>\n",
              "      <td>0</td>\n",
              "    </tr>\n",
              "    <tr>\n",
              "      <th>WindGustSpeed</th>\n",
              "      <td>0</td>\n",
              "    </tr>\n",
              "    <tr>\n",
              "      <th>WindDir9am</th>\n",
              "      <td>0</td>\n",
              "    </tr>\n",
              "    <tr>\n",
              "      <th>WindDir3pm</th>\n",
              "      <td>0</td>\n",
              "    </tr>\n",
              "    <tr>\n",
              "      <th>WindSpeed9am</th>\n",
              "      <td>0</td>\n",
              "    </tr>\n",
              "    <tr>\n",
              "      <th>WindSpeed3pm</th>\n",
              "      <td>0</td>\n",
              "    </tr>\n",
              "    <tr>\n",
              "      <th>Humidity9am</th>\n",
              "      <td>0</td>\n",
              "    </tr>\n",
              "    <tr>\n",
              "      <th>Humidity3pm</th>\n",
              "      <td>0</td>\n",
              "    </tr>\n",
              "    <tr>\n",
              "      <th>Pressure9am</th>\n",
              "      <td>0</td>\n",
              "    </tr>\n",
              "    <tr>\n",
              "      <th>Pressure3pm</th>\n",
              "      <td>0</td>\n",
              "    </tr>\n",
              "    <tr>\n",
              "      <th>Temp9am</th>\n",
              "      <td>0</td>\n",
              "    </tr>\n",
              "    <tr>\n",
              "      <th>Temp3pm</th>\n",
              "      <td>0</td>\n",
              "    </tr>\n",
              "    <tr>\n",
              "      <th>RainToday</th>\n",
              "      <td>0</td>\n",
              "    </tr>\n",
              "    <tr>\n",
              "      <th>RainTomorrow</th>\n",
              "      <td>0</td>\n",
              "    </tr>\n",
              "    <tr>\n",
              "      <th>Year</th>\n",
              "      <td>0</td>\n",
              "    </tr>\n",
              "    <tr>\n",
              "      <th>Month</th>\n",
              "      <td>0</td>\n",
              "    </tr>\n",
              "    <tr>\n",
              "      <th>Day</th>\n",
              "      <td>0</td>\n",
              "    </tr>\n",
              "    <tr>\n",
              "      <th>DayOfWeek</th>\n",
              "      <td>0</td>\n",
              "    </tr>\n",
              "    <tr>\n",
              "      <th>Season</th>\n",
              "      <td>0</td>\n",
              "    </tr>\n",
              "  </tbody>\n",
              "</table>\n",
              "</div><br><label><b>dtype:</b> int64</label>"
            ]
          },
          "metadata": {},
          "execution_count": 17
        }
      ]
    },
    {
      "cell_type": "code",
      "source": [
        "df['RainTomorrow'].value_counts(normalize=True)\n"
      ],
      "metadata": {
        "colab": {
          "base_uri": "https://localhost:8080/",
          "height": 178
        },
        "id": "Q6Y6Tc8Whe-6",
        "outputId": "8c36866a-2153-4373-e912-cda9e515a293"
      },
      "execution_count": 18,
      "outputs": [
        {
          "output_type": "execute_result",
          "data": {
            "text/plain": [
              "RainTomorrow\n",
              "0    0.780854\n",
              "1    0.219146\n",
              "Name: proportion, dtype: float64"
            ],
            "text/html": [
              "<div>\n",
              "<style scoped>\n",
              "    .dataframe tbody tr th:only-of-type {\n",
              "        vertical-align: middle;\n",
              "    }\n",
              "\n",
              "    .dataframe tbody tr th {\n",
              "        vertical-align: top;\n",
              "    }\n",
              "\n",
              "    .dataframe thead th {\n",
              "        text-align: right;\n",
              "    }\n",
              "</style>\n",
              "<table border=\"1\" class=\"dataframe\">\n",
              "  <thead>\n",
              "    <tr style=\"text-align: right;\">\n",
              "      <th></th>\n",
              "      <th>proportion</th>\n",
              "    </tr>\n",
              "    <tr>\n",
              "      <th>RainTomorrow</th>\n",
              "      <th></th>\n",
              "    </tr>\n",
              "  </thead>\n",
              "  <tbody>\n",
              "    <tr>\n",
              "      <th>0</th>\n",
              "      <td>0.780854</td>\n",
              "    </tr>\n",
              "    <tr>\n",
              "      <th>1</th>\n",
              "      <td>0.219146</td>\n",
              "    </tr>\n",
              "  </tbody>\n",
              "</table>\n",
              "</div><br><label><b>dtype:</b> float64</label>"
            ]
          },
          "metadata": {},
          "execution_count": 18
        }
      ]
    },
    {
      "cell_type": "code",
      "source": [
        "X = df.drop('RainTomorrow', axis=1)\n",
        "y = df['RainTomorrow']"
      ],
      "metadata": {
        "id": "pkToJrcYjSyH"
      },
      "execution_count": 19,
      "outputs": []
    },
    {
      "cell_type": "markdown",
      "source": [
        "Bağımlı ve Bağımsız Değişkenleri Ayırma (X ve y)\n",
        "Hedef sütunumuz: RainTomorrow (1: Yağmur olacak, 0: Yağmur olmayacak)\n",
        "\n",
        "Özelliklerimiz (X): Diğer tüm sütunlar (Location, MinTemp, MaxTemp, Year, Month, Season vb.)"
      ],
      "metadata": {
        "id": "mB2hK9ZsjUcm"
      }
    },
    {
      "cell_type": "code",
      "source": [
        "from sklearn.model_selection import train_test_split\n",
        "\n",
        "X_train, X_test, y_train, y_test = train_test_split(\n",
        "    X, y, test_size=0.2, random_state=42, stratify=y\n",
        ")"
      ],
      "metadata": {
        "id": "aqDou8hjjgPA"
      },
      "execution_count": 20,
      "outputs": []
    },
    {
      "cell_type": "markdown",
      "source": [
        "%80 Eğitim / %20 Test → Standart oran."
      ],
      "metadata": {
        "id": "_yKnhFYJjiU3"
      }
    },
    {
      "cell_type": "code",
      "source": [
        "from sklearn.preprocessing import StandardScaler\n",
        "\n",
        "scaler = StandardScaler()\n",
        "X_train_scaled = scaler.fit_transform(X_train)\n",
        "X_test_scaled = scaler.transform(X_test)"
      ],
      "metadata": {
        "id": "4HZcjyRim0vD"
      },
      "execution_count": 21,
      "outputs": []
    },
    {
      "cell_type": "markdown",
      "source": [
        "Ölçekleme (scaling), farklı ölçeklerdeki (birimleri, değer aralıkları farklı olan) sayısal verileri bir ortak ölçeğe getirme işlemidir. Bu işlemi gerçekleştiriyoruz opsiyonel olarak yapılan bir iyileştirme işlemidir."
      ],
      "metadata": {
        "id": "21HML-9Cm2SQ"
      }
    },
    {
      "cell_type": "code",
      "source": [
        "#lojistik regresyon modeli ile ilgili kod..\n",
        "from sklearn.linear_model import LogisticRegression\n",
        "\n",
        "#model = LogisticRegression(class_weight='balanced', max_iter=1000)\n",
        "#model.fit(X_train_scaled, y_train)"
      ],
      "metadata": {
        "id": "jvblxh9Rpv8H"
      },
      "execution_count": 22,
      "outputs": []
    },
    {
      "cell_type": "code",
      "source": [
        "#random forest kodları\n",
        "from sklearn.metrics import roc_auc_score, roc_curve\n",
        "from sklearn.ensemble import RandomForestClassifier\n",
        "\n",
        "model_rf = RandomForestClassifier(random_state=42)\n",
        "model_rf.fit(X_train, y_train)\n",
        "\n",
        "y_pred_rf = model_rf.predict(X_test)\n",
        "print(classification_report(y_test, y_pred_rf))\n",
        "print(confusion_matrix(y_test, y_pred_rf))\n",
        "\n",
        "y_pred_proba_rf = model_rf.predict_proba(X_test)[:, 1]\n",
        "roc_auc_rf = roc_auc_score(y_test, y_pred_proba_rf)\n",
        "print(\"ROC-AUC Skoru:\", roc_auc_rf)\n"
      ],
      "metadata": {
        "colab": {
          "base_uri": "https://localhost:8080/"
        },
        "id": "zEUVRXtTSN7L",
        "outputId": "f21d0c8a-f6b8-496b-b1b0-d46cc79aa450"
      },
      "execution_count": 24,
      "outputs": [
        {
          "output_type": "stream",
          "name": "stdout",
          "text": [
            "              precision    recall  f1-score   support\n",
            "\n",
            "           0       0.87      0.96      0.91     22717\n",
            "           1       0.76      0.50      0.60      6375\n",
            "\n",
            "    accuracy                           0.86     29092\n",
            "   macro avg       0.82      0.73      0.76     29092\n",
            "weighted avg       0.85      0.86      0.84     29092\n",
            "\n",
            "[[21735   982]\n",
            " [ 3213  3162]]\n",
            "ROC-AUC Skoru: 0.8813835367311514\n"
          ]
        }
      ]
    },
    {
      "cell_type": "code",
      "source": [
        "# Decision Tree Kodları\n",
        "from sklearn.tree import DecisionTreeClassifier\n",
        "\n",
        "model_dt = DecisionTreeClassifier(random_state=42)\n",
        "model_dt.fit(X_train, y_train)\n",
        "\n",
        "y_pred_dt = model_dt.predict(X_test)\n",
        "print(\"Decision Tree - Classification Report\")\n",
        "print(classification_report(y_test, y_pred_dt))\n",
        "print(confusion_matrix(y_test, y_pred_dt))\n",
        "\n",
        "y_pred_proba_dt = model_dt.predict_proba(X_test)[:, 1]\n",
        "roc_auc_dt = roc_auc_score(y_test, y_pred_proba_dt)\n",
        "print(\"Decision Tree - ROC-AUC Skoru:\", roc_auc_dt)\n"
      ],
      "metadata": {
        "colab": {
          "base_uri": "https://localhost:8080/"
        },
        "id": "KqcOYB8POCFJ",
        "outputId": "d2d8f378-e58c-45c0-bd50-4c51469bab34"
      },
      "execution_count": 25,
      "outputs": [
        {
          "output_type": "stream",
          "name": "stdout",
          "text": [
            "Decision Tree - Classification Report\n",
            "              precision    recall  f1-score   support\n",
            "\n",
            "           0       0.87      0.85      0.86     22717\n",
            "           1       0.50      0.54      0.52      6375\n",
            "\n",
            "    accuracy                           0.78     29092\n",
            "   macro avg       0.69      0.69      0.69     29092\n",
            "weighted avg       0.79      0.78      0.78     29092\n",
            "\n",
            "[[19351  3366]\n",
            " [ 2962  3413]]\n",
            "Decision Tree - ROC-AUC Skoru: 0.6936007878698426\n"
          ]
        }
      ]
    },
    {
      "cell_type": "markdown",
      "source": [
        "fit()\tModeli eğitir, verilerden öğrenir.\n",
        "X_train\tGirdi özellikleri.\n",
        "y_train\tÇıktı (etiketler).\n",
        "LogisticRegression\tSeçilen algoritma"
      ],
      "metadata": {
        "id": "YdMbjStSqC-C"
      }
    },
    {
      "cell_type": "code",
      "source": [
        "from sklearn.metrics import classification_report, confusion_matrix\n",
        "\n",
        "#y_pred = model.predict(X_test_scaled)\n",
        "print(classification_report(y_test, y_pred))\n",
        "print(confusion_matrix(y_test, y_pred))\n"
      ],
      "metadata": {
        "id": "aosa0TygqQqf"
      },
      "execution_count": null,
      "outputs": []
    },
    {
      "cell_type": "markdown",
      "source": [
        "Tahmin ve Değerlendirme"
      ],
      "metadata": {
        "id": "W94XUyNCqReG"
      }
    },
    {
      "cell_type": "code",
      "source": [
        "#from sklearn.metrics import roc_auc_score, roc_curve\n",
        "\n",
        "#y_pred_proba = model.predict_proba(X_test_scaled)[:, 1]\n",
        "#roc_auc = roc_auc_score(y_test, y_pred_proba)\n",
        "#print(\"ROC-AUC Skoru:\", roc_auc)\n"
      ],
      "metadata": {
        "id": "wUbO6lzZtp0q"
      },
      "execution_count": null,
      "outputs": []
    },
    {
      "cell_type": "markdown",
      "source": [
        "ROC-AUC Skoru (Receiver Operating Characteristic - Area Under Curve)\n",
        "Bu skor, modelimizin genel ayrım yeteneğini daha iyi gösterir.\n",
        "✅ %70 üzeri değerler genelde iyi kabul edilir."
      ],
      "metadata": {
        "id": "JMiojwxXtq1o"
      }
    }
  ]
}